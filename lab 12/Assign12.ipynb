{
  "nbformat": 4,
  "nbformat_minor": 0,
  "metadata": {
    "colab": {
      "provenance": []
    },
    "kernelspec": {
      "name": "python3",
      "display_name": "Python 3"
    },
    "language_info": {
      "name": "python"
    }
  },
  "cells": [
    {
      "cell_type": "code",
      "execution_count": 18,
      "metadata": {
        "colab": {
          "base_uri": "https://localhost:8080/"
        },
        "id": "gfygkxTwZ8Fw",
        "outputId": "9ec7fee3-9f6f-4c9d-93b4-db6d16a72ec1"
      },
      "outputs": [
        {
          "output_type": "stream",
          "name": "stdout",
          "text": [
            "Overwriting mapreduce_log_processor.py\n"
          ]
        }
      ],
      "source": [
        "%%writefile mapreduce_log_processor.py\n",
        "from collections import defaultdict\n",
        "import sys"
      ]
    },
    {
      "cell_type": "code",
      "source": [
        "# Simulate the input lines (instead of sys.stdin)\n",
        "lines = [\n",
        "    \"INFO Server started\",\n",
        "    \"ERROR Database connection failed\",\n",
        "    \"INFO User login\",\n",
        "    \"WARN Low disk space\",\n",
        "    \"ERROR Timeout\",\n",
        "    \"INFO Server stopped\"\n",
        "]\n",
        "\n",
        "# Dictionary to store counts of log levels\n",
        "from collections import defaultdict\n",
        "\n",
        "log_count = defaultdict(int)\n",
        "\n",
        "for line in lines:\n",
        "    line = line.strip()\n",
        "    if line:\n",
        "        parts = line.split()\n",
        "        log_level = parts[0].upper()  # Take the first word (INFO, ERROR, WARN)\n",
        "        log_count[log_level] += 1\n",
        "\n",
        "# Output the results\n",
        "for log_level, count in log_count.items():\n",
        "    print(f'{count}\\t{log_level}')\n",
        "\n"
      ],
      "metadata": {
        "colab": {
          "base_uri": "https://localhost:8080/"
        },
        "id": "6o6WDmOOaErj",
        "outputId": "88458e0c-6e3a-4208-cca0-a3866ab2a2a5"
      },
      "execution_count": 20,
      "outputs": [
        {
          "output_type": "stream",
          "name": "stdout",
          "text": [
            "3\tINFO\n",
            "2\tERROR\n",
            "1\tWARN\n"
          ]
        }
      ]
    },
    {
      "cell_type": "code",
      "source": [],
      "metadata": {
        "id": "1Z4m5sPxan12"
      },
      "execution_count": null,
      "outputs": []
    }
  ]
}