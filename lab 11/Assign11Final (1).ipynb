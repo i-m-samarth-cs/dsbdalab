{
  "nbformat": 4,
  "nbformat_minor": 0,
  "metadata": {
    "colab": {
      "provenance": []
    },
    "kernelspec": {
      "name": "python3",
      "display_name": "Python 3"
    },
    "language_info": {
      "name": "python"
    }
  },
  "cells": [
    {
      "cell_type": "code",
      "source": [
        "# Install required packages (run once)\n",
        "!pip install lorem"
      ],
      "metadata": {
        "id": "1EsAhg-jsE9O",
        "colab": {
          "base_uri": "https://localhost:8080/"
        },
        "outputId": "43405c0b-d111-4d5a-c548-16ab07c76a25"
      },
      "execution_count": 17,
      "outputs": [
        {
          "output_type": "stream",
          "name": "stdout",
          "text": [
            "Requirement already satisfied: lorem in /usr/local/lib/python3.11/dist-packages (0.1.1)\n"
          ]
        }
      ]
    },
    {
      "cell_type": "code",
      "source": [
        "# Create sample text files\n",
        "%%file sample01.txt\n",
        "Hello my name is kartik"
      ],
      "metadata": {
        "id": "wX4rCpvEsE6H",
        "colab": {
          "base_uri": "https://localhost:8080/"
        },
        "outputId": "7a0fcd86-7a1d-4d89-cbab-18a0bed30f65"
      },
      "execution_count": 18,
      "outputs": [
        {
          "output_type": "stream",
          "name": "stdout",
          "text": [
            "Overwriting sample01.txt\n"
          ]
        }
      ]
    },
    {
      "cell_type": "code",
      "source": [
        "%%file sample02.txt\n",
        "Hello my name is Mahesh Mahesh"
      ],
      "metadata": {
        "id": "EJPxVa0AsE3Z",
        "colab": {
          "base_uri": "https://localhost:8080/"
        },
        "outputId": "91d125e6-b59c-41b8-c794-2f4ca5690bce"
      },
      "execution_count": 19,
      "outputs": [
        {
          "output_type": "stream",
          "name": "stdout",
          "text": [
            "Overwriting sample02.txt\n"
          ]
        }
      ]
    },
    {
      "cell_type": "code",
      "source": [
        "%%file sample03.txt\n",
        "Hello my name is Neha"
      ],
      "metadata": {
        "id": "-Z5APEf8sE1S",
        "colab": {
          "base_uri": "https://localhost:8080/"
        },
        "outputId": "e6568b51-aa55-45e3-88cb-5ae2b4a8524a"
      },
      "execution_count": 20,
      "outputs": [
        {
          "output_type": "stream",
          "name": "stdout",
          "text": [
            "Overwriting sample03.txt\n"
          ]
        }
      ]
    },
    {
      "cell_type": "code",
      "source": [
        "%%file sample04.txt\n",
        "We are SCOE'ians"
      ],
      "metadata": {
        "id": "Aer8mtDtsEzp",
        "colab": {
          "base_uri": "https://localhost:8080/"
        },
        "outputId": "e14c3999-7c16-432c-ae9b-0ee6ef9bdf23"
      },
      "execution_count": 21,
      "outputs": [
        {
          "output_type": "stream",
          "name": "stdout",
          "text": [
            "Overwriting sample04.txt\n"
          ]
        }
      ]
    },
    {
      "cell_type": "code",
      "source": [
        "# Mapper implementation\n",
        "%%file mapper.py\n",
        "#!/usr/bin/env python\n",
        "import sys\n",
        "# input comes from standard input\n",
        "for line in sys.stdin:\n",
        "    line = line.strip().lower() # remove leading and trailing whitespace\n",
        "    line = line.replace(\".\", \" \")   # strip punctuation\n",
        "    for word in line.split(): # split the line into words\n",
        "        # write the results to standard output;\n",
        "        # tab-delimited; the trivial word count is 1\n",
        "        print(f'{word}\\t1')"
      ],
      "metadata": {
        "id": "VdZCKhLisEw9",
        "colab": {
          "base_uri": "https://localhost:8080/"
        },
        "outputId": "7a69128f-8471-4085-e2cb-682d2248ada2"
      },
      "execution_count": 22,
      "outputs": [
        {
          "output_type": "stream",
          "name": "stdout",
          "text": [
            "Overwriting mapper.py\n"
          ]
        }
      ]
    },
    {
      "cell_type": "code",
      "source": [
        "# Make mapper executable\n",
        "!chmod +x mapper.py"
      ],
      "metadata": {
        "id": "FF8LVP9OsEu6"
      },
      "execution_count": 23,
      "outputs": []
    },
    {
      "cell_type": "code",
      "source": [
        "# Reducer implementation\n",
        "%%file reducer.py\n",
        "#!/usr/bin/env python\n",
        "from operator import itemgetter\n",
        "import sys\n",
        "\n",
        "current_word = None\n",
        "current_count = 0\n",
        "word = None\n",
        "\n",
        "for line in sys.stdin:\n",
        "    # parse the input we got from mapper.py\n",
        "    word, count = line.split('\\t', 1)\n",
        "\n",
        "    # convert count (currently a string) to int\n",
        "    try:\n",
        "        count = int(count)\n",
        "    except ValueError:\n",
        "        continue\n",
        "\n",
        "    if current_word == word:\n",
        "        current_count += count\n",
        "    else:\n",
        "        if current_word:\n",
        "            print(f'{current_count}\\t{current_word}')\n",
        "        current_count = count\n",
        "        current_word = word\n",
        "        # do not forget to output the last word if needed!\n",
        "if current_word == word:\n",
        "    print(f'{current_count}\\t{current_word}')"
      ],
      "metadata": {
        "id": "aRgZYixWsEs0",
        "colab": {
          "base_uri": "https://localhost:8080/"
        },
        "outputId": "bf25ae3e-237e-4e87-bbe2-1821b79ecbae"
      },
      "execution_count": 24,
      "outputs": [
        {
          "output_type": "stream",
          "name": "stdout",
          "text": [
            "Overwriting reducer.py\n"
          ]
        }
      ]
    },
    {
      "cell_type": "code",
      "source": [
        "# Make reducer executable\n",
        "!chmod +x reducer.py"
      ],
      "metadata": {
        "id": "09UQVrzPsEq0"
      },
      "execution_count": 25,
      "outputs": []
    },
    {
      "cell_type": "code",
      "source": [
        "# Test the MapReduce pipeline locally\n",
        "!cat sample01.txt | ./mapper.py | sort | ./reducer.py | sort"
      ],
      "metadata": {
        "id": "NqLKAFg0sEox",
        "colab": {
          "base_uri": "https://localhost:8080/"
        },
        "outputId": "3390d789-9d9b-453d-97aa-2099714b3252"
      },
      "execution_count": 26,
      "outputs": [
        {
          "output_type": "stream",
          "name": "stdout",
          "text": [
            "1\thello\n",
            "1\tis\n",
            "1\tkartik\n",
            "1\tmy\n",
            "1\tname\n"
          ]
        }
      ]
    },
    {
      "cell_type": "code",
      "source": [
        "# Test the MapReduce pipeline locally\n",
        "!cat sample02.txt | ./mapper.py | sort | ./reducer.py | sort"
      ],
      "metadata": {
        "id": "KbhwGaTfsEmR",
        "colab": {
          "base_uri": "https://localhost:8080/"
        },
        "outputId": "621dff96-de7e-4e56-e4b3-d13b45005940"
      },
      "execution_count": 27,
      "outputs": [
        {
          "output_type": "stream",
          "name": "stdout",
          "text": [
            "1\thello\n",
            "1\tis\n",
            "1\tmy\n",
            "1\tname\n",
            "2\tmahesh\n"
          ]
        }
      ]
    },
    {
      "cell_type": "code",
      "source": [
        "# Test the MapReduce pipeline locally\n",
        "!cat sample03.txt | ./mapper.py | sort | ./reducer.py | sort"
      ],
      "metadata": {
        "colab": {
          "base_uri": "https://localhost:8080/"
        },
        "id": "C7NfKkIGvA8F",
        "outputId": "427a8529-3860-485c-a4d9-5048e7f34b11"
      },
      "execution_count": 28,
      "outputs": [
        {
          "output_type": "stream",
          "name": "stdout",
          "text": [
            "1\thello\n",
            "1\tis\n",
            "1\tmy\n",
            "1\tname\n",
            "1\tneha\n"
          ]
        }
      ]
    },
    {
      "cell_type": "code",
      "source": [
        "# Test the MapReduce pipeline locally\n",
        "!cat sample04.txt | ./mapper.py | sort | ./reducer.py | sort"
      ],
      "metadata": {
        "colab": {
          "base_uri": "https://localhost:8080/"
        },
        "id": "50tDCEllvRl3",
        "outputId": "c24881bc-2738-4f02-ff36-cf421968a723"
      },
      "execution_count": 29,
      "outputs": [
        {
          "output_type": "stream",
          "name": "stdout",
          "text": [
            "1\tare\n",
            "1\tscoe'ians\n",
            "1\twe\n"
          ]
        }
      ]
    },
    {
      "cell_type": "code",
      "source": [],
      "metadata": {
        "id": "nWj9EM81viOb"
      },
      "execution_count": null,
      "outputs": []
    }
  ]
}